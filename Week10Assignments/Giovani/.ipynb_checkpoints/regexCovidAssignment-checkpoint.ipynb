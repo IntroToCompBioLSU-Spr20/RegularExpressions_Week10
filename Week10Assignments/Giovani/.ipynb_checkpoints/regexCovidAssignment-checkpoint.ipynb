{
 "cells": [
  {
   "cell_type": "markdown",
   "metadata": {},
   "source": [
    "This assignment will give you practice with regular expressions (and other Python skills) by processing data on cumulative case counts and deaths in every county/parish in the US for covid-19. These data are compiled and updated regulary by the NY Times, and made available on GitHub: https://github.com/nytimes/covid-19-data. I downloaded the data on March 30th and have included that file (covidData_3.30.20.txt) in this week's repository.\n",
    "\n",
    "Each cell in this Jupyter notebook includes a comment that indicates what I want you to accomplish with Python code. To submit your assignment, please create your own folder (with your name) inside the assignments folder for this week. In this folder, please put the completed notebook and the new files you created. Please submit these via a pull request to the class GitHub page, as with previous weeks.\n",
    "\n",
    "If you have *any questions at all*, please let me know. I will be available for office hours via Zoom at our regularly scheduled class times. I'll also respond to all emails as quickly as possible.\n",
    "\n",
    "This assignment will be due by 5 PM next Monday, April 6th."
   ]
  },
  {
   "cell_type": "markdown",
   "metadata": {},
   "source": [
    "Assignment, Giovani Hernandez Canchola"
   ]
  },
  {
   "cell_type": "code",
   "execution_count": null,
   "metadata": {},
   "outputs": [],
   "source": [
    "# Load the re module\n",
    "\n",
    "import re"
   ]
  },
  {
   "cell_type": "code",
   "execution_count": null,
   "metadata": {},
   "outputs": [],
   "source": [
    "# Create a file object to read from the covid data file\n",
    "# This file contains cumulative case counts and deaths from \n",
    "# covid-19 for every country in the US. It was current as of\n",
    "# March 30th.\n",
    "\n",
    "covid = open(\"covidData_3.30.20.txt\", \"r\")"
   ]
  },
  {
   "cell_type": "code",
   "execution_count": null,
   "metadata": {
    "scrolled": true
   },
   "outputs": [],
   "source": [
    "# Find all parishes from Louisiana in this file.\n",
    "# You should make a list that contains only the parish\n",
    "# names. This list can be created with a single command.\n",
    "# Be careful to include ALL the parishes in your search.\n",
    "\n",
    "parLoui = re.findall(r\".+,(.+),Louisiana,.+\",covid.read())"
   ]
  },
  {
   "cell_type": "code",
   "execution_count": null,
   "metadata": {},
   "outputs": [],
   "source": [
    "# Close the covid data file object\n",
    "\n",
    "covid.close()"
   ]
  },
  {
   "cell_type": "code",
   "execution_count": null,
   "metadata": {},
   "outputs": [],
   "source": [
    "# Print out the Louisiana search results\n",
    "\n",
    "print(parLoui)"
   ]
  },
  {
   "cell_type": "code",
   "execution_count": null,
   "metadata": {},
   "outputs": [],
   "source": [
    "# Create a dictionary that has the Louisiana parish \n",
    "# names as keys and the number of times they appear \n",
    "# in the data file as values.\n",
    "\n",
    "# Hint: You can test if a dictionary does or does not\n",
    "# contain a certain key using:\n",
    "# myKey in myDict --or-- myKey not in myDict\n",
    "\n",
    "myDic = {}\n",
    "for a in parLoui:\n",
    "    num = parLoui.count(a)\n",
    "    myDic[a]=[num]"
   ]
  },
  {
   "cell_type": "code",
   "execution_count": null,
   "metadata": {
    "scrolled": true
   },
   "outputs": [],
   "source": [
    "# Using your dictionary, figure out which of these parishes has\n",
    "# the most entries in the file. The one with the most entries\n",
    "# had the earliest observed covid case.\n",
    "# Jefferson, Orleans, East Baton Rouge, Plaquemines\n",
    "\n",
    "import operator\n",
    "myDic_ord = dict(sorted(myDic.items(), reverse=True, key=operator.itemgetter(1)))\n",
    "print(myDic_ord)"
   ]
  },
  {
   "cell_type": "code",
   "execution_count": null,
   "metadata": {},
   "outputs": [],
   "source": [
    "# Figure out how many parishes are in the dictionary. How does \n",
    "# this compare to the total number of parishes in the state?\n",
    "\n",
    "len(myDic)"
   ]
  },
  {
   "cell_type": "markdown",
   "metadata": {},
   "source": [
    "Louisiana has 64 parishes, so allmost all Louisiana parishes (60) have coronavirus cases (March 3, 2020)."
   ]
  },
  {
   "cell_type": "code",
   "execution_count": null,
   "metadata": {},
   "outputs": [],
   "source": [
    "# Now, reopen the data file and use a regex search to find the first instance \n",
    "# where a Louisiana parish recorded a covid-19 death. This will be the first \n",
    "# line in the file that includes Louisiana and has a death count >0. After \n",
    "# your search, print the date and the parish. Be sure to also close the input file.\n",
    "# Example output: ZZZZ parish reported the first covid-19 death in Louisiana on 2020-ZZ-ZZ\n",
    "\n",
    "covid = open(\"covidData_3.30.20.txt\", \"r\")\n",
    "firstLoui = re.search(r\"(.+),(.+),Louisiana,.+\",covid.read())\n",
    "covid.close()\n",
    "\n",
    "x = firstLoui.groups()[0]\n",
    "y = firstLoui.groups()[1]\n",
    "\n",
    "print(\"%s parish reported the first covid-19 death in Louisiana on %s.\" %(y,x))"
   ]
  },
  {
   "cell_type": "code",
   "execution_count": null,
   "metadata": {},
   "outputs": [],
   "source": [
    "# Now we need to create a new file that only has records from Louisiana. \n",
    "# Extract the lines that pertain to Louisiana and write them to a new file.\n",
    "\n",
    "covid = open(\"covidData_3.30.20.txt\", \"r\")\n",
    "Loui = re.findall(r\".+,Louisiana,.+\",covid.read())\n",
    "covid.close()\n",
    "\n",
    "forNewLou = open(\"Lou.txt\",\"w\")\n",
    "for _ in Loui:\n",
    "    forNewLou.write(_+'\\n')    \n",
    "forNewLou.close()"
   ]
  },
  {
   "cell_type": "code",
   "execution_count": null,
   "metadata": {},
   "outputs": [],
   "source": [
    "# Lastly, let's imagine that we want to do further downstream analyses with\n",
    "# the Louisiana data, but our downstream analyses require some formatting chanages.\n",
    "# Read in the lines from your newly created file with only Louisiana records, reformat them, \n",
    "# and create a separate file to hold the newly formatted information. Specifically, the \n",
    "# dates in the file should be reformatted from looking like this (2020-MM-DD) to looking \n",
    "# like this (MM.DD.2020). Also, the fips codes (in the 4th column) should be removed, and\n",
    "# Louisiana should be abbreviated as LA. So, this file should end up with entries that look\n",
    "# like this: 03.25.2020,Morehouse,LA,1,0\n",
    "\n",
    "toOrderL = open(\"Lou.txt\", \"r\")\n",
    "elementsL = re.findall(r\".+-(.+)-(.+),(.+),Louisiana,.*,(.+),(.+)\", toOrderL.read())\n",
    "toOrderL.close()\n",
    "\n",
    "L = open(\"newOrderLouisiana.txt\", \"w\")\n",
    "for _ in elementsL:\n",
    "    month = _[0]\n",
    "    day = _[1]\n",
    "    parish = _[2]\n",
    "    cases = _[3]\n",
    "    deaths = _[4]\n",
    "    L.write(\"%s.%s.2020,%s,LA,%s,%s\" %(month,day,parish,cases,deaths)+'\\n') \n",
    "L.close()"
   ]
  }
 ],
 "metadata": {
  "kernelspec": {
   "display_name": "Python 3",
   "language": "python",
   "name": "python3"
  },
  "language_info": {
   "codemirror_mode": {
    "name": "ipython",
    "version": 3
   },
   "file_extension": ".py",
   "mimetype": "text/x-python",
   "name": "python",
   "nbconvert_exporter": "python",
   "pygments_lexer": "ipython3",
   "version": "3.6.4"
  }
 },
 "nbformat": 4,
 "nbformat_minor": 4
}
